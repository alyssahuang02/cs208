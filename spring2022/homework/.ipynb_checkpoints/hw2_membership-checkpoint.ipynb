{
 "cells": [
  {
   "cell_type": "code",
   "execution_count": 1,
   "metadata": {
    "allow_embed": "code_output",
    "cell_id": "b69f3087-5953-4c0a-a878-6db476cab411",
    "deepnote_cell_type": "code",
    "deepnote_output_heights": [
     611
    ],
    "deepnote_to_be_reexecuted": false,
    "execution_millis": 725,
    "execution_start": 1644442292144,
    "source_hash": "e2d582fc",
    "tags": []
   },
   "outputs": [],
   "source": [
    "from hw2_starter import *\n",
    "np.random.seed(123)"
   ]
  },
  {
   "cell_type": "code",
   "execution_count": 2,
   "metadata": {
    "cell_id": "00001-17e42365-2788-46b2-bd44-169d5a13eb96",
    "deepnote_cell_type": "code",
    "deepnote_to_be_reexecuted": false,
    "execution_millis": 4,
    "execution_start": 1644442292883,
    "source_hash": "63c9dd63",
    "tags": []
   },
   "outputs": [],
   "source": [
    "def synthesize(population_prob, n=1):\n",
    "    \"\"\"Utility function to simulate sampling from a population.\n",
    "    Each column is sampled with the coin-flip probability defined in population_prob.\"\"\"\n",
    "    x = np.random.binomial(n=1, p=population_prob, size=(n, len(population_prob)))\n",
    "    x[x == 0] = -1\n",
    "    return x\n",
    "\n",
    "\n",
    "## TEST STATISTICS\n",
    "def test_homer(alice, sample_mean, population_mean):\n",
    "    \"\"\"Calculates the Homer test statistic\"\"\"\n",
    "    test_statistic = sum(abs(alice - population_mean) - abs(alice - sample_mean))\n",
    "    return test_statistic\n",
    "\n",
    "\n",
    "def test_dwork(alice, sample_mean, population_mean):\n",
    "    \"\"\"Calculates the Dwork et al. test statistic using the population means\n",
    "    Let `population_mean=referent` if using only a single individual from the population as a referent.\n",
    "    \"\"\"\n",
    "    return np.dot(alice - population_mean, sample_mean - population_mean)\n",
    "\n",
    "\n",
    "def null_distribution(fun, population_prob, population_mean, null_sims=1000, alpha=0.05):\n",
    "    \"\"\"Simulates the null distribution\"\"\"\n",
    "    # A null distribution and critical value generator\n",
    "    hold = []\n",
    "\n",
    "    for i in range(null_sims):\n",
    "        sample_mean = synthesize(population_prob, n=10).mean(axis=0)\n",
    "        null_alice = synthesize(population_prob)[0]\n",
    "        # referent = synthesize(population_prob)[0]\n",
    "\n",
    "        hold.append(fun(null_alice, sample_mean, population_mean))\n",
    "\n",
    "    null_dist_vals = np.sort(hold)[::-1]\n",
    "    return {\n",
    "        \"nulldist\": null_dist_vals,\n",
    "        \"critical_val\": null_dist_vals[round(alpha * null_sims)]\n",
    "    }\n"
   ]
  },
  {
   "cell_type": "code",
   "execution_count": 3,
   "metadata": {
    "cell_id": "00008-bf354163-4f39-4549-abde-677b2df99b12",
    "deepnote_cell_type": "code",
    "deepnote_to_be_reexecuted": false,
    "execution_millis": 8,
    "execution_start": 1644442292891,
    "source_hash": "cefe4981"
   },
   "outputs": [],
   "source": [
    "def execute_means_exact(dat, predicates):\n",
    "    \"\"\"Evaluate predicates on the dataset 'dat' and return the means.\"\"\"\n",
    "    return dat[target].values @ np.stack([pred(dat) for pred in predicates], axis=1)/len(dat)"
   ]
  },
  {
   "cell_type": "code",
   "execution_count": 4,
   "metadata": {
    "cell_id": "00009-d1015fd9-593c-405e-8ba7-89392cc6467f",
    "deepnote_cell_type": "code",
    "deepnote_to_be_reexecuted": false,
    "execution_millis": 0,
    "execution_start": 1644442292909,
    "source_hash": "6a1d76e9"
   },
   "outputs": [],
   "source": [
    "def membership_attack(answers, alice, pop_params):\n",
    "    \"\"\"Perform membership attack using dwork et al. test statistic.\n",
    "    :return: True if alice is in data.\"\"\"\n",
    "\n",
    "    population_mean = 2 * pop_params - 1. \n",
    "\n",
    "    output = null_distribution(test_dwork, pop_params, population_mean)\n",
    "    critical_value = output[\"critical_val\"]\n",
    "\n",
    "    # membership attack here\n",
    "    test_statistic = test_dwork(alice=alice, sample_mean=answers, population_mean=population_mean)\n",
    "    dwork_membership_success = (test_statistic > critical_value)\n",
    "    return dwork_membership_success"
   ]
  },
  {
   "cell_type": "code",
   "execution_count": null,
   "metadata": {
    "cell_id": "00010-bd957456-7982-4c75-a0ff-d8e2ba969952",
    "deepnote_cell_type": "code",
    "deepnote_to_be_reexecuted": false,
    "execution_millis": 58600,
    "execution_start": 1644442292922,
    "source_hash": "cccadebf"
   },
   "outputs": [
    {
     "name": "stdout",
     "output_type": "stream",
     "text": [
      "Predicate space dimensionality: 200\n"
     ]
    }
   ],
   "source": [
    "import time\n",
    "\n",
    "small_data: pd.DataFrame = pd.read_csv(\n",
    "    \"https://raw.githubusercontent.com/opendp/cs208/main/spring2022/data/FultonPUMS5full.csv\")\\\n",
    "    .sample(n=100)\n",
    "\n",
    "num_trials = 1000\n",
    "fp_results = []\n",
    "tp_results = []\n",
    "\n",
    "num_predicates = np.arange(2, 6) * len(small_data)\n",
    "for d in num_predicates:\n",
    "    fp = 0\n",
    "    tp = 0\n",
    "\n",
    "    print('Predicate space dimensionality:', d)\n",
    "\n",
    "    start_time = time.time()\n",
    "    for i in range(num_trials):\n",
    "        \n",
    "        # regenerate predicates for each trial\n",
    "        predicates = [make_random_predicate() for _ in range(d)]\n",
    "\n",
    "        sample_mean = execute_means_exact(small_data, predicates)\n",
    "\n",
    "        # alice is in the sample (Fulton) and null_alice is from the population (U.S.)\n",
    "        # use the following population parameters\n",
    "        # (imagine whole of U.S. is the population and Fulton is below it so we see a clear signal)\n",
    "        pop_params = np.random.uniform(0.5, 1.0, d)\n",
    "\n",
    "        null_alice = synthesize(population_prob=pop_params, n=1)[0]\n",
    "        fp += membership_attack(sample_mean, null_alice, pop_params)\n",
    "\n",
    "        alice = synthesize(population_prob=sample_mean, n=1)[0]\n",
    "        tp += membership_attack(sample_mean, alice, pop_params)\n",
    "\n",
    "    print(f\"{time.time() - start_time} seconds\")\n",
    "    fp_results.append(fp / num_trials)\n",
    "    tp_results.append(tp / num_trials)\n",
    "\n",
    "print(fp_results)\n",
    "print(tp_results)"
   ]
  },
  {
   "cell_type": "code",
   "execution_count": null,
   "metadata": {
    "cell_id": "00011-7179458e-1247-4ebb-ab54-1f34c1799fc1",
    "deepnote_cell_type": "code",
    "deepnote_output_heights": [
     280,
     280
    ],
    "deepnote_to_be_reexecuted": true,
    "execution_millis": 1631,
    "execution_start": 1644441683519,
    "source_hash": "d47a0dab"
   },
   "outputs": [],
   "source": [
    "import matplotlib.pyplot as plt\n",
    "\n",
    "plt.plot(num_predicates, fp_results)\n",
    "plt.xlabel(\"Number of Predicates\")\n",
    "plt.ylabel(\"False Positive Rate\")\n",
    "plt.title(\"False Positive Rate as Number of Predicates Increases\")\n",
    "plt.show()\n",
    "\n",
    "plt.plot(num_predicates, tp_results)\n",
    "plt.xlabel(\"Number of Predicates\")\n",
    "plt.ylabel(\"True Positive Rate\")\n",
    "plt.title(\"True Positive Rate as Number of Predicates Increases\")\n",
    "plt.show()"
   ]
  },
  {
   "cell_type": "markdown",
   "metadata": {
    "created_in_deepnote_cell": true,
    "deepnote_cell_type": "markdown",
    "tags": []
   },
   "source": []
  }
 ],
 "metadata": {
  "deepnote": {
   "is_reactive": false
  },
  "deepnote_execution_queue": [
   {
    "cellId": "00010-bd957456-7982-4c75-a0ff-d8e2ba969952",
    "msgId": "96a4932b-f010-477d-b1ad-fbd22da8b41c",
    "sessionId": "b41c036d-c91e-4a2c-a989-f05b7b92c218"
   },
   {
    "cellId": "00011-7179458e-1247-4ebb-ab54-1f34c1799fc1",
    "msgId": "a36800f4-4f7a-4752-9e58-921b911b10b5",
    "sessionId": "b41c036d-c91e-4a2c-a989-f05b7b92c218"
   }
  ],
  "deepnote_notebook_id": "9c2fc0ff-6d99-430b-985e-7ccc7b97e034",
  "kernelspec": {
   "display_name": "Python 3 (ipykernel)",
   "language": "python",
   "name": "python3"
  },
  "language_info": {
   "codemirror_mode": {
    "name": "ipython",
    "version": 3
   },
   "file_extension": ".py",
   "mimetype": "text/x-python",
   "name": "python",
   "nbconvert_exporter": "python",
   "pygments_lexer": "ipython3",
   "version": "3.9.5"
  }
 },
 "nbformat": 4,
 "nbformat_minor": 2
}
