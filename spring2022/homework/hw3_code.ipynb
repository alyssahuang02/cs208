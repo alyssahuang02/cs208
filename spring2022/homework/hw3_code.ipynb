{
 "cells": [
  {
   "cell_type": "code",
   "execution_count": 91,
   "id": "42e88c29",
   "metadata": {},
   "outputs": [],
   "source": [
    "import numpy as np\n",
    "\n",
    "# Generate data according to poisson process\n",
    "\n",
    "def dgp_poisson(N):\n",
    "    r = np.random.poisson(10, N)\n",
    "    return r"
   ]
  },
  {
   "cell_type": "code",
   "execution_count": 95,
   "id": "92c253c5",
   "metadata": {},
   "outputs": [],
   "source": [
    "# Mechanism 1\n",
    "\n",
    "def clamp(x, bounds):\n",
    "    \"\"\"Replace any x_i less than lower with lower, \n",
    "           and any x_i greater than upper with upper.\"\"\"\n",
    "    return np.clip(x, *bounds)\n",
    "\n",
    "def dp_function(x, epsilon, upper):\n",
    "    n = len(x)\n",
    "    x = clamp(x, (0, upper))\n",
    "    x_bar = np.mean(x)\n",
    "    laplace = np.random.laplace(loc=0, scale=upper/(n*epsilon), size=1)\n",
    "    return clamp(x_bar + laplace, (0, upper))"
   ]
  },
  {
   "cell_type": "code",
   "execution_count": 96,
   "id": "625e4080",
   "metadata": {},
   "outputs": [],
   "source": [
    "import math\n",
    "def RMSE(answers, exact_vals):\n",
    "    diff = exact_vals - answers\n",
    "    total = sum(diff**2)\n",
    "    return math.sqrt(total/len(answers))"
   ]
  },
  {
   "cell_type": "code",
   "execution_count": 107,
   "id": "3e19a8ac",
   "metadata": {},
   "outputs": [
    {
     "data": {
      "image/png": "[encoded data removed]",
      "text/plain": [
       "<Figure size 432x288 with 1 Axes>"
      ]
     },
     "metadata": {
      "needs_background": "light"
     },
     "output_type": "display_data"
    },
    {
     "name": "stdout",
     "output_type": "stream",
     "text": [
      "(array([16]),)\n"
     ]
    }
   ],
   "source": [
    "# Plotting\n",
    "num_trials = 20\n",
    "\n",
    "def run_trial(x, epsilon, b):\n",
    "    answers = np.zeros(num_trials)\n",
    "    exacts = np.zeros(num_trials)\n",
    "    for i in range(num_trials):\n",
    "        x = dgp_poisson(N)\n",
    "        answers[i] = dp_function(x, epsilon, b)\n",
    "        exacts[i] = np.mean(x)\n",
    "    return RMSE(answers, exacts)\n",
    "\n",
    "import matplotlib.pyplot as plt\n",
    "\n",
    "N=200\n",
    "epsilon=0.5\n",
    "max_b = 100\n",
    "y_vals = np.zeros(max_b)\n",
    "\n",
    "for b in range(max_b):\n",
    "    y_vals[b] = run_trial(x, epsilon, b)\n",
    "\n",
    "plt.scatter(range(1, max_b), y_vals[1:], color='lightpink', label=\"RMSEs\")\n",
    "plt.title(\"RMSEs by value of b\")\n",
    "plt.xlabel(\"Value of b\")\n",
    "plt.ylabel('RMSEs')\n",
    "\n",
    "plt.tight_layout()\n",
    "plt.savefig('hw3_plot.png')\n",
    "plt.show()\n",
    "\n",
    "print(np.where(y_vals == np.amin(y_vals)))"
   ]
  }
 ],
 "metadata": {
  "kernelspec": {
   "display_name": "Python 3 (ipykernel)",
   "language": "python",
   "name": "python3"
  },
  "language_info": {
   "codemirror_mode": {
    "name": "ipython",
    "version": 3
   },
   "file_extension": ".py",
   "mimetype": "text/x-python",
   "name": "python",
   "nbconvert_exporter": "python",
   "pygments_lexer": "ipython3",
   "version": "3.9.5"
  }
 },
 "nbformat": 4,
 "nbformat_minor": 5
}
